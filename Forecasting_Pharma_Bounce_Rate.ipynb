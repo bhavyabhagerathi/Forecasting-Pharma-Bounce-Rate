{
 "cells": [
  {
   "cell_type": "markdown",
   "id": "eb0fe367",
   "metadata": {},
   "source": [
    "**Importing Libraries**"
   ]
  },
  {
   "cell_type": "code",
   "execution_count": null,
   "id": "46b06ee2",
   "metadata": {
    "scrolled": true
   },
   "outputs": [],
   "source": [
    "import pandas as pd\n",
    "import numpy as np\n",
    "import dtale\n",
    "import statsmodels.graphics.tsaplots as tsa_plots\n",
    "from statsmodels.tsa.arima.model import ARIMA\n",
    "from matplotlib import pyplot\n",
    "import matplotlib.pyplot as plt\n",
    "from statsmodels.tsa.seasonal import seasonal_decompose"
   ]
  },
  {
   "cell_type": "markdown",
   "id": "fe86f5c4",
   "metadata": {},
   "source": [
    "**Reading Data**"
   ]
  },
  {
   "cell_type": "code",
   "execution_count": null,
   "id": "80d9e980",
   "metadata": {},
   "outputs": [],
   "source": [
    "data = pd.read_csv(\"Pharma_Bounce_Rate.csv\")"
   ]
  },
  {
   "cell_type": "code",
   "execution_count": null,
   "id": "38c461d0",
   "metadata": {},
   "outputs": [],
   "source": [
    "data.info()"
   ]
  },
  {
   "cell_type": "code",
   "execution_count": null,
   "id": "3cacd543",
   "metadata": {},
   "outputs": [],
   "source": [
    "data.describe()"
   ]
  },
  {
   "cell_type": "code",
   "execution_count": null,
   "id": "df12100c",
   "metadata": {},
   "outputs": [],
   "source": [
    "data['DrugName'].nunique()"
   ]
  },
  {
   "cell_type": "markdown",
   "id": "7f173ebe",
   "metadata": {},
   "source": [
    "**Data Exploration : Checking & dropping duplicates**"
   ]
  },
  {
   "cell_type": "code",
   "execution_count": null,
   "id": "2936d218",
   "metadata": {},
   "outputs": [],
   "source": [
    "duplicate = data.duplicated()\n",
    "duplicate"
   ]
  },
  {
   "cell_type": "code",
   "execution_count": null,
   "id": "93ab4c98",
   "metadata": {},
   "outputs": [],
   "source": [
    "sum(duplicate)"
   ]
  },
  {
   "cell_type": "code",
   "execution_count": null,
   "id": "af45ca60",
   "metadata": {},
   "outputs": [],
   "source": [
    "unique = data[\"DrugName\"].value_counts()\n",
    "data1 = data.drop_duplicates()"
   ]
  },
  {
   "cell_type": "code",
   "execution_count": null,
   "id": "0e03405e",
   "metadata": {},
   "outputs": [],
   "source": [
    "duplicate1 = data1.duplicated()\n",
    "sum(duplicate1)"
   ]
  },
  {
   "cell_type": "markdown",
   "id": "32d5bd32",
   "metadata": {},
   "source": [
    "**Data Exploration : Checking for missing values**"
   ]
  },
  {
   "cell_type": "code",
   "execution_count": null,
   "id": "c7d4d11b",
   "metadata": {},
   "outputs": [],
   "source": [
    "data1.isna().sum()"
   ]
  },
  {
   "cell_type": "code",
   "execution_count": null,
   "id": "d77ade8c",
   "metadata": {},
   "outputs": [],
   "source": [
    "data1.dropna(inplace=True)"
   ]
  },
  {
   "cell_type": "code",
   "execution_count": null,
   "id": "65066b68",
   "metadata": {},
   "outputs": [],
   "source": [
    "data1.isna().sum()"
   ]
  },
  {
   "cell_type": "markdown",
   "id": "36c65665",
   "metadata": {},
   "source": [
    "**Data Preprocessing : Converting the datatype of Date column from Object to Datetime format**"
   ]
  },
  {
   "cell_type": "code",
   "execution_count": null,
   "id": "9933a609",
   "metadata": {},
   "outputs": [],
   "source": [
    "data1['Dateofbill'] = pd.to_datetime(data1['Dateofbill'])"
   ]
  },
  {
   "cell_type": "markdown",
   "id": "d52468fd",
   "metadata": {},
   "source": [
    "**Data Preprocessing : Sorting the data column**"
   ]
  },
  {
   "cell_type": "code",
   "execution_count": null,
   "id": "7980b058",
   "metadata": {},
   "outputs": [],
   "source": [
    "data1 = data1.sort_values(by='Dateofbill')\n",
    "data1.head()"
   ]
  },
  {
   "cell_type": "markdown",
   "id": "68a64a6d",
   "metadata": {},
   "source": [
    "**Auto EDA using dtale**"
   ]
  },
  {
   "cell_type": "code",
   "execution_count": null,
   "id": "8d3b39f0",
   "metadata": {},
   "outputs": [],
   "source": [
    "d = dtale.show(data1)\n",
    "d.open_browser()"
   ]
  },
  {
   "cell_type": "markdown",
   "id": "82775c2f",
   "metadata": {},
   "source": [
    "**Time Series Analysis**"
   ]
  },
  {
   "cell_type": "code",
   "execution_count": null,
   "id": "f20135ca",
   "metadata": {
    "scrolled": false
   },
   "outputs": [],
   "source": [
    "data1['DrugName'].value_counts().head(10).plot(kind = 'bar')\n",
    "data1 = data1[[\"Dateofbill\",\"Quantity\", \"DrugName\"]]\n",
    "data1 = data1.set_index('Dateofbill')\n",
    "data1.index = pd.to_datetime(data1.index)\n",
    "grouped_data = data1.groupby('DrugName')"
   ]
  },
  {
   "cell_type": "markdown",
   "id": "8864d1ed",
   "metadata": {},
   "source": [
    "**Forecasting For Top 5 drugs**"
   ]
  },
  {
   "cell_type": "code",
   "execution_count": null,
   "id": "13bffcb5",
   "metadata": {},
   "outputs": [],
   "source": [
    "A = grouped_data.get_group('SODIUM CHLORIDE IVF 100ML')\n",
    "A1 = grouped_data.get_group('MULTIPLE ELECTROLYTES 500ML IVF')\n",
    "A2 = grouped_data.get_group('PARACETAMOL 1GM IV INJ')\n",
    "A3 = grouped_data.get_group('SODIUM CHLORIDE 0.9%')\n",
    "A4 = grouped_data.get_group('PARACETAMOL 150MG')"
   ]
  },
  {
   "cell_type": "code",
   "execution_count": null,
   "id": "695188dc",
   "metadata": {},
   "outputs": [],
   "source": [
    "A = A[[\"Quantity\"]]\n",
    "A.rename(columns = {\"Quantity\" : \"SODIUM CHLORIDE IVF 100ML\"}, inplace=True)\n",
    "A = A.resample('M').sum()\n",
    "A.plot()"
   ]
  },
  {
   "cell_type": "code",
   "execution_count": null,
   "id": "bf05b935",
   "metadata": {},
   "outputs": [],
   "source": [
    "A1 = A1[[\"Quantity\"]]\n",
    "A1.rename(columns = {\"Quantity\" : \"MULTIPLE ELECTROLYTES 500ML IVF\"}, inplace=True)\n",
    "A1 = A1.resample('M').sum()\n",
    "A1.plot()"
   ]
  },
  {
   "cell_type": "code",
   "execution_count": null,
   "id": "a8c4ebca",
   "metadata": {},
   "outputs": [],
   "source": [
    "A2 = A2[[\"Quantity\"]]\n",
    "A2.rename(columns = {\"Quantity\" : \"PARACETAMOL 1GM IV INJ\"}, inplace=True)\n",
    "A2 = A2.resample('M').sum()\n",
    "A2.plot()"
   ]
  },
  {
   "cell_type": "code",
   "execution_count": null,
   "id": "e770f462",
   "metadata": {},
   "outputs": [],
   "source": [
    "A3 = A3[[\"Quantity\"]]\n",
    "A3.rename(columns = {\"Quantity\" : \"SODIUM CHLORIDE 0.9%\"}, inplace=True)\n",
    "A3 = A3.resample('M').sum()\n",
    "A3.plot()"
   ]
  },
  {
   "cell_type": "code",
   "execution_count": null,
   "id": "fecbe64f",
   "metadata": {},
   "outputs": [],
   "source": [
    "A4 = A4[[\"Quantity\"]]\n",
    "A4.rename(columns = {\"Quantity\" : \"PARACETAMOL 150MG\"}, inplace=True)\n",
    "A4 = A4.resample('M').sum()\n",
    "A4.plot()"
   ]
  },
  {
   "cell_type": "code",
   "execution_count": null,
   "id": "51e43958",
   "metadata": {},
   "outputs": [],
   "source": [
    "from statsmodels.tsa.stattools import adfuller"
   ]
  },
  {
   "cell_type": "code",
   "execution_count": null,
   "id": "e6b193f0",
   "metadata": {},
   "outputs": [],
   "source": [
    "def adf_test(series):\n",
    "    result=adfuller(series)\n",
    "    print('ADF Statistics: {}'.format(result[0]))\n",
    "    print('p- value: {}'.format(result[1]))\n",
    "    if result[1] <= 0.05:\n",
    "        print(\"Strong evidence against the null hypothesis, reject the null hypothesis. Data has no unit root and is stationary\")\n",
    "    else:\n",
    "        print(\"Weak evidence against null hypothesis, time series has a unit root, indicating it is non-stationary \")"
   ]
  },
  {
   "cell_type": "code",
   "execution_count": null,
   "id": "b4ae7c5e",
   "metadata": {},
   "outputs": [],
   "source": [
    "adf_test(A)\n",
    "adf_test(A1)\n",
    "adf_test(A2)\n",
    "adf_test(A3)\n",
    "adf_test(A4)"
   ]
  },
  {
   "cell_type": "code",
   "execution_count": null,
   "id": "5d411941",
   "metadata": {},
   "outputs": [],
   "source": [
    "def decompose(df):\n",
    "    result_add = seasonal_decompose(df, model = 'additive', extrapolate_trend='freq',  period=1)\n",
    "\n",
    "    plt.rcParams.update({'figure.figsize': (20, 10)})\n",
    "    result_add.plot().suptitle('Additive Decompose', fontsize=30)\n",
    "    plt.show()\n",
    "    \n",
    "    return  result_add"
   ]
  },
  {
   "cell_type": "code",
   "execution_count": null,
   "id": "d1d44b4e",
   "metadata": {},
   "outputs": [],
   "source": [
    "decompose(A)\n",
    "decompose(A1)\n",
    "decompose(A2)\n",
    "decompose(A3)\n",
    "decompose(A4)"
   ]
  },
  {
   "cell_type": "code",
   "execution_count": null,
   "id": "053cd706",
   "metadata": {},
   "outputs": [],
   "source": [
    "from statsmodels.graphics.tsaplots import plot_acf,plot_pacf\n",
    "\n",
    "plot_acf(A)  \n",
    "plot_acf(A1) \n",
    "plot_acf(A2) \n",
    "plot_acf(A3) \n",
    "plot_acf(A4)"
   ]
  },
  {
   "cell_type": "code",
   "execution_count": null,
   "id": "81da0a77",
   "metadata": {},
   "outputs": [],
   "source": [
    "plot_pacf(A , lags = 5)  \n",
    "plot_pacf(A1 , lags = 5) \n",
    "plot_pacf(A2 , lags = 5) \n",
    "plot_pacf(A3 , lags = 5) \n",
    "plot_pacf(A4 , lags = 5) "
   ]
  },
  {
   "cell_type": "code",
   "execution_count": null,
   "id": "54ae6339",
   "metadata": {},
   "outputs": [],
   "source": [
    "def MAPE(pred, org):\n",
    "    temp = np.abs((pred-org)/org)*100\n",
    "    return np.mean(temp)"
   ]
  },
  {
   "cell_type": "code",
   "execution_count": null,
   "id": "67fcd947",
   "metadata": {},
   "outputs": [],
   "source": [
    "from pmdarima import auto_arima\n",
    "\n",
    "import warnings\n",
    "warnings.filterwarnings(\"ignore\")\n",
    "\n",
    "Am = auto_arima(A, suppress_warnings=True)\n",
    "Am.summary()\n",
    "\n",
    "Am1 = auto_arima(A1, suppress_warnings=True)\n",
    "Am1.summary()\n",
    "\n",
    "Am2 = auto_arima(A2, suppress_warnings=True)\n",
    "Am2.summary()\n",
    "\n",
    "Am3 = auto_arima(A3, suppress_warnings=True)\n",
    "Am3.summary()\n",
    "\n",
    "Am4 = auto_arima(A4, suppress_warnings=True)\n",
    "Am4.summary()"
   ]
  },
  {
   "cell_type": "code",
   "execution_count": null,
   "id": "4596fcfc",
   "metadata": {},
   "outputs": [],
   "source": [
    "Drug1=ARIMA(A,order=(1, 1, 12))\n",
    "Drug1=Drug1.fit()\n",
    "Drug1.summary()\n",
    "\n",
    "pred=Drug1.predict(start=1,end=12, typ='levels').rename('ARIMA predictions')\n",
    "pred.plot()"
   ]
  },
  {
   "cell_type": "code",
   "execution_count": null,
   "id": "e06c19f3",
   "metadata": {},
   "outputs": [],
   "source": [
    "from sklearn.metrics import mean_absolute_percentage_error\n",
    "mean_absolute_percentage_error(A['SODIUM CHLORIDE IVF 100ML'], pred)\n",
    "\n",
    "predf=Drug1.predict(start=12,end=24,typ='levels').rename('ARIMA predictions')\n",
    "predf\n",
    "Drug1.save('drug_1.pkl')"
   ]
  },
  {
   "cell_type": "code",
   "execution_count": null,
   "id": "1fd6f5ac",
   "metadata": {},
   "outputs": [],
   "source": [
    "Drug2 = ARIMA(A1,order=(4, 1, 12))\n",
    "Drug2 = Drug2.fit()\n",
    "Drug2.summary()\n",
    "A1.plot()\n",
    "pred=Drug2.predict(start=1,end=12, typ='levels').rename('ARIMA predictions')\n",
    "pred.plot()"
   ]
  },
  {
   "cell_type": "code",
   "execution_count": null,
   "id": "ef81d935",
   "metadata": {},
   "outputs": [],
   "source": [
    "mean_absolute_percentage_error(A1['SEVOFLURANE 99.97%'], pred)\n",
    "predf=Drug2.predict(start=12,end=24,typ='levels').rename('ARIMA predictions')\n",
    "predf\n",
    "Drug2.save('drug_2.pkl')"
   ]
  },
  {
   "cell_type": "code",
   "execution_count": null,
   "id": "0576fda9",
   "metadata": {},
   "outputs": [],
   "source": [
    "Drug3 = ARIMA(A2,order=(3, 1, 12))\n",
    "Drug3 = Drug3.fit()\n",
    "Drug3.summary()\n",
    "A2.plot()\n",
    "pred=Drug3.predict(start=1,end=12, typ='levels').rename('ARIMA predictions')\n",
    "pred.plot()"
   ]
  },
  {
   "cell_type": "code",
   "execution_count": null,
   "id": "5183bed0",
   "metadata": {},
   "outputs": [],
   "source": [
    "mean_absolute_percentage_error(A2['SODIUM CHLORIDE 0.9%'], pred)\n",
    "predf=Drug3.predict(start=12,end=24,typ='levels').rename('ARIMA predictions')\n",
    "predf\n",
    "Drug3.save('drug_3.pkl')"
   ]
  },
  {
   "cell_type": "code",
   "execution_count": null,
   "id": "4d22546a",
   "metadata": {},
   "outputs": [],
   "source": [
    "Drug4 = ARIMA(A3,order=(2, 1, 12))\n",
    "Drug4 = Drug4.fit()\n",
    "Drug4.summary()\n",
    "A3.plot()\n",
    "pred=Drug4.predict(start=1,end=12, typ='levels').rename('ARIMA predictions')\n",
    "pred.plot()"
   ]
  },
  {
   "cell_type": "code",
   "execution_count": null,
   "id": "b20313b3",
   "metadata": {},
   "outputs": [],
   "source": [
    "mean_absolute_percentage_error(A3['ONDANSETRON 2MG/ML'], pred)\n",
    "predf=Drug4.predict(start=12,end=24,typ='levels').rename('ARIMA predictions')\n",
    "predf\n",
    "Drug4.save('drug_4.pkl')"
   ]
  },
  {
   "cell_type": "code",
   "execution_count": null,
   "id": "19aaf1e2",
   "metadata": {},
   "outputs": [],
   "source": [
    "Drug5 = ARIMA(A4,order=(1, 1, 12))\n",
    "Drug5 = Drug5.fit()\n",
    "Drug5.summary()\n",
    "A4.plot()\n",
    "pred=Drug5.predict(start=1,end=12, typ='levels').rename('ARIMA predictions')\n",
    "pred.plot()"
   ]
  },
  {
   "cell_type": "code",
   "execution_count": null,
   "id": "1f8c94cc",
   "metadata": {},
   "outputs": [],
   "source": [
    "mean_absolute_percentage_error(A4['MULTIPLE ELECTROLYTES 500ML IVF'], pred)\n",
    "predf=Drug5.predict(start=12,end=24,typ='levels').rename('ARIMA predictions')\n",
    "predf\n",
    "Drug5.save('drug_5.pkl')"
   ]
  },
  {
   "cell_type": "code",
   "execution_count": null,
   "id": "33c48f59",
   "metadata": {},
   "outputs": [],
   "source": [
    "import statsmodels.api as sm\n",
    "model1 = sm.load('drug_1.pkl')\n",
    "model2 = sm.load('drug_2.pkl')\n",
    "model3 = sm.load('drug_3.pkl')\n",
    "model4 = sm.load('drug_4.pkl')\n",
    "model5 = sm.load('drug_5.pkl')\n",
    "\n",
    "predf1=model1.predict(start=12,end=24).rename('ARIMA predictions')\n",
    "predf1\n",
    "\n",
    "predf2=model2.predict(start=12,end=24).rename('ARIMA predictions')\n",
    "predf2\n",
    "\n",
    "predf3=model3.predict(start=12,end=24).rename('ARIMA predictions')\n",
    "predf3\n",
    "\n",
    "predf4=model4.predict(start=12,end=24).rename('ARIMA predictions')\n",
    "predf4\n",
    "\n",
    "predf5=model5.predict(start=12,end=24).rename('ARIMA predictions')\n",
    "predf5"
   ]
  }
 ],
 "metadata": {
  "kernelspec": {
   "display_name": "Python 3 (ipykernel)",
   "language": "python",
   "name": "python3"
  },
  "language_info": {
   "codemirror_mode": {
    "name": "ipython",
    "version": 3
   },
   "file_extension": ".py",
   "mimetype": "text/x-python",
   "name": "python",
   "nbconvert_exporter": "python",
   "pygments_lexer": "ipython3",
   "version": "3.10.6"
  }
 },
 "nbformat": 4,
 "nbformat_minor": 5
}
