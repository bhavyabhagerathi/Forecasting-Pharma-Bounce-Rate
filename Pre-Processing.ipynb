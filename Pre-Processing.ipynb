{
 "cells": [
  {
   "cell_type": "markdown",
   "id": "d2fc6c92",
   "metadata": {},
   "source": [
    "**Importing Libraries**"
   ]
  },
  {
   "cell_type": "code",
   "execution_count": 1,
   "id": "7a2f8ea9",
   "metadata": {},
   "outputs": [],
   "source": [
    "import pandas as pd\n",
    "import numpy as np\n",
    "# import seaborn as sns\n",
    "import dtale\n",
    "import statsmodels.graphics.tsaplots as tsa_plots\n",
    "from statsmodels.tsa.arima.model import ARIMA\n",
    "# from sklearn.metrics import mean_squared_error\n",
    "# from math import sqrt\n",
    "from matplotlib import pyplot\n",
    "import matplotlib.pyplot as plt\n",
    "from statsmodels.tsa.seasonal import seasonal_decompose"
   ]
  },
  {
   "cell_type": "markdown",
   "id": "5bb0b3af",
   "metadata": {},
   "source": [
    "**Reading Data**"
   ]
  },
  {
   "cell_type": "code",
   "execution_count": null,
   "id": "7ffb316f",
   "metadata": {},
   "outputs": [],
   "source": [
    "data = pd.read_csv(\"Pharma_Bounce_Rate.csv\")"
   ]
  },
  {
   "cell_type": "code",
   "execution_count": null,
   "id": "b39ce4fc",
   "metadata": {},
   "outputs": [],
   "source": [
    "data.info()"
   ]
  },
  {
   "cell_type": "code",
   "execution_count": null,
   "id": "dc477aaa",
   "metadata": {},
   "outputs": [],
   "source": [
    "data.describe()"
   ]
  },
  {
   "cell_type": "code",
   "execution_count": null,
   "id": "d50f3dda",
   "metadata": {},
   "outputs": [],
   "source": [
    "data['DrugName'].nunique()"
   ]
  },
  {
   "cell_type": "markdown",
   "id": "9098bf26",
   "metadata": {},
   "source": [
    "**Data Preprocessing : Converting the datatype of Date column from Object to Datetime format**"
   ]
  },
  {
   "cell_type": "code",
   "execution_count": null,
   "id": "e0eb23bf",
   "metadata": {},
   "outputs": [],
   "source": [
    "data1['Dateofbill'] = pd.to_datetime(data1['Dateofbill'])"
   ]
  },
  {
   "cell_type": "markdown",
   "id": "71ddd71a",
   "metadata": {},
   "source": [
    "**Data Preprocessing : Sorting the data column**"
   ]
  },
  {
   "cell_type": "code",
   "execution_count": null,
   "id": "1eb0429a",
   "metadata": {},
   "outputs": [],
   "source": [
    "data1 = data1.sort_values(by='Dateofbill')\n",
    "data1.head()"
   ]
  }
 ],
 "metadata": {
  "kernelspec": {
   "display_name": "Python 3 (ipykernel)",
   "language": "python",
   "name": "python3"
  },
  "language_info": {
   "codemirror_mode": {
    "name": "ipython",
    "version": 3
   },
   "file_extension": ".py",
   "mimetype": "text/x-python",
   "name": "python",
   "nbconvert_exporter": "python",
   "pygments_lexer": "ipython3",
   "version": "3.10.6"
  }
 },
 "nbformat": 4,
 "nbformat_minor": 5
}
