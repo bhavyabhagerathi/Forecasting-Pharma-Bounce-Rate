{
 "cells": [
  {
   "cell_type": "markdown",
   "id": "d2fc6c92",
   "metadata": {},
   "source": [
    "**Importing Libraries**"
   ]
  },
  {
   "cell_type": "code",
   "execution_count": 1,
   "id": "7a2f8ea9",
   "metadata": {},
   "outputs": [],
   "source": [
    "import pandas as pd\n",
    "import numpy as np\n",
    "# import seaborn as sns\n",
    "import dtale\n",
    "import statsmodels.graphics.tsaplots as tsa_plots\n",
    "from statsmodels.tsa.arima.model import ARIMA\n",
    "# from sklearn.metrics import mean_squared_error\n",
    "# from math import sqrt\n",
    "from matplotlib import pyplot\n",
    "import matplotlib.pyplot as plt\n",
    "from statsmodels.tsa.seasonal import seasonal_decompose"
   ]
  },
  {
   "cell_type": "markdown",
   "id": "5bb0b3af",
   "metadata": {},
   "source": [
    "**Reading Data**"
   ]
  },
  {
   "cell_type": "code",
   "execution_count": null,
   "id": "7ffb316f",
   "metadata": {},
   "outputs": [],
   "source": [
    "data = pd.read_csv(\"Pharma_Bounce_Rate.csv\")"
   ]
  },
  {
   "cell_type": "code",
   "execution_count": null,
   "id": "b39ce4fc",
   "metadata": {},
   "outputs": [],
   "source": [
    "data.info()"
   ]
  },
  {
   "cell_type": "code",
   "execution_count": null,
   "id": "dc477aaa",
   "metadata": {},
   "outputs": [],
   "source": [
    "data.describe()"
   ]
  },
  {
   "cell_type": "code",
   "execution_count": null,
   "id": "63d75419",
   "metadata": {},
   "outputs": [],
   "source": [
    "data['DrugName'].nunique()"
   ]
  },
  {
   "cell_type": "markdown",
   "id": "9098bf26",
   "metadata": {},
   "source": [
    "**Data Preprocessing : Converting the datatype of Date column from Object to Datetime format**"
   ]
  },
  {
   "cell_type": "code",
   "execution_count": null,
   "id": "e0eb23bf",
   "metadata": {},
   "outputs": [],
   "source": [
    "data1['Dateofbill'] = pd.to_datetime(data1['Dateofbill'])"
   ]
  },
  {
   "cell_type": "markdown",
   "id": "71ddd71a",
   "metadata": {},
   "source": [
    "**Data Preprocessing : Sorting the data column**"
   ]
  },
  {
   "cell_type": "code",
   "execution_count": null,
   "id": "1eb0429a",
   "metadata": {},
   "outputs": [],
   "source": [
    "data1 = data1.sort_values(by='Dateofbill')\n",
    "data1.head()"
   ]
  },
  {
   "cell_type": "markdown",
   "id": "27b68960",
   "metadata": {},
   "source": [
    "**Data Exploration : Checking & dropping duplicates**"
   ]
  },
  {
   "cell_type": "code",
   "execution_count": null,
   "id": "08bac698",
   "metadata": {},
   "outputs": [],
   "source": [
    "duplicate = data.duplicated()\n",
    "duplicate"
   ]
  },
  {
   "cell_type": "code",
   "execution_count": null,
   "id": "f43883ee",
   "metadata": {},
   "outputs": [],
   "source": [
    "sum(duplicate)"
   ]
  },
  {
   "cell_type": "code",
   "execution_count": null,
   "id": "7891b959",
   "metadata": {},
   "outputs": [],
   "source": [
    "unique = data[\"DrugName\"].value_counts()\n",
    "data1 = data.drop_duplicates()"
   ]
  },
  {
   "cell_type": "code",
   "execution_count": null,
   "id": "637c6256",
   "metadata": {},
   "outputs": [],
   "source": [
    "duplicate1 = data1.duplicated()\n",
    "sum(duplicate1)"
   ]
  },
  {
   "cell_type": "markdown",
   "id": "d319fbae",
   "metadata": {},
   "source": [
    "**Data Exploration : Checking for missing values**"
   ]
  },
  {
   "cell_type": "code",
   "execution_count": null,
   "id": "e008a947",
   "metadata": {},
   "outputs": [],
   "source": [
    "data1.isna().sum()"
   ]
  },
  {
   "cell_type": "code",
   "execution_count": null,
   "id": "c931437b",
   "metadata": {},
   "outputs": [],
   "source": [
    "data1.dropna(inplace=True)"
   ]
  },
  {
   "cell_type": "code",
   "execution_count": null,
   "id": "0974c4db",
   "metadata": {},
   "outputs": [],
   "source": [
    "data1.isna().sum()"
   ]
  },
  {
   "cell_type": "markdown",
   "id": "a4be7f4a",
   "metadata": {},
   "source": [
    "**Auto EDA using dtale**"
   ]
  },
  {
   "cell_type": "code",
   "execution_count": null,
   "id": "41d4a9d7",
   "metadata": {},
   "outputs": [],
   "source": [
    "d = dtale.show(data1)\n",
    "d.open_browser()"
   ]
  }
 ],
 "metadata": {
  "kernelspec": {
   "display_name": "Python 3 (ipykernel)",
   "language": "python",
   "name": "python3"
  },
  "language_info": {
   "codemirror_mode": {
    "name": "ipython",
    "version": 3
   },
   "file_extension": ".py",
   "mimetype": "text/x-python",
   "name": "python",
   "nbconvert_exporter": "python",
   "pygments_lexer": "ipython3",
   "version": "3.10.6"
  }
 },
 "nbformat": 4,
 "nbformat_minor": 5
}
